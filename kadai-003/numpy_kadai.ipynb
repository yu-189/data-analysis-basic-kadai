{
  "nbformat": 4,
  "nbformat_minor": 0,
  "metadata": {
    "colab": {
      "provenance": []
    },
    "kernelspec": {
      "name": "python3",
      "display_name": "Python 3"
    },
    "language_info": {
      "name": "python"
    }
  },
  "cells": [
    {
      "cell_type": "code",
      "execution_count": 6,
      "metadata": {
        "id": "Mp7DlJM3yD6O"
      },
      "outputs": [],
      "source": [
        "import numpy as np"
      ]
    },
    {
      "cell_type": "code",
      "source": [
        "a = np.array([[0,1],[2,3],[4,5]])\n",
        "b = np.array([[0,1,2,3],[4,5,6,7]])"
      ],
      "metadata": {
        "id": "I-pU9psnyLJl"
      },
      "execution_count": 7,
      "outputs": []
    },
    {
      "cell_type": "code",
      "source": [
        "multiply_array = np.dot(a,b)\n",
        "multiply_array"
      ],
      "metadata": {
        "colab": {
          "base_uri": "https://localhost:8080/"
        },
        "id": "Fl4dSQ7pygAf",
        "outputId": "e45babed-5599-44e1-dd8d-82d5f1dd1825"
      },
      "execution_count": 8,
      "outputs": [
        {
          "output_type": "execute_result",
          "data": {
            "text/plain": [
              "array([[ 4,  5,  6,  7],\n",
              "       [12, 17, 22, 27],\n",
              "       [20, 29, 38, 47]])"
            ]
          },
          "metadata": {},
          "execution_count": 8
        }
      ]
    },
    {
      "cell_type": "code",
      "source": [
        "np.max(multiply_array)"
      ],
      "metadata": {
        "id": "68mbqVONyi--",
        "colab": {
          "base_uri": "https://localhost:8080/"
        },
        "outputId": "d688ce73-609e-4fef-c271-c31f52e00072"
      },
      "execution_count": 9,
      "outputs": [
        {
          "output_type": "execute_result",
          "data": {
            "text/plain": [
              "np.int64(47)"
            ]
          },
          "metadata": {},
          "execution_count": 9
        }
      ]
    },
    {
      "cell_type": "code",
      "source": [],
      "metadata": {
        "id": "hMM0MNXZHGIu"
      },
      "execution_count": null,
      "outputs": []
    }
  ]
}